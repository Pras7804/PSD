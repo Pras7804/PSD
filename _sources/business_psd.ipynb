{
  "nbformat": 4,
  "nbformat_minor": 0,
  "metadata": {
    "colab": {
      "provenance": []
    },
    "kernelspec": {
      "name": "python3",
      "display_name": "Python 3"
    },
    "language_info": {
      "name": "python"
    }
  },
  "cells": [
    {
      "cell_type": "markdown",
      "source": [
        "# **Business Understanding**"
      ],
      "metadata": {
        "id": "YE4dgAx9Cynk"
      }
    },
    {
      "cell_type": "markdown",
      "source": [
        "## **Heart Disease**"
      ],
      "metadata": {
        "id": "yELUpHUiDEcJ"
      }
    },
    {
      "cell_type": "markdown",
      "source": [
        "### Latar Belakang\n",
        "\n",
        "Penyakit jantung merupakan salah satu penyebab kematian tertinggi di dunia. Biaya pengobatan penyakit ini juga sangat besar bagi pasien, rumah sakit, maupun perusahaan asuransi. Deteksi dini terhadap potensi penyakit jantung dapat membantu:\n",
        "\n",
        "*   Mengurangi biaya perawatan jangka panjang.\n",
        "\n",
        "*   Membantu dokter dalam pengambilan keputusan medis.\n",
        "\n",
        "*   Memberikan rekomendasi gaya hidup sehat bagi pasien berisiko tinggi.\n",
        "\n",
        "\n",
        "\n"
      ],
      "metadata": {
        "id": "6DBbRI-iDLyb"
      }
    },
    {
      "cell_type": "markdown",
      "source": [
        "### Masalah Bisnis\n",
        "\n",
        "Rumah sakit atau klinik sering menghadapi kendala dalam mengidentifikasi pasien yang berisiko terkena penyakit jantung sejak awal, karena keterbatasan waktu, sumber daya medis, dan faktor biaya. Tanpa adanya sistem analisis data, proses identifikasi risiko bergantung penuh pada pemeriksaan manual dokter yang bisa berbeda antar pasien."
      ],
      "metadata": {
        "id": "FR6LTla3Ddew"
      }
    },
    {
      "cell_type": "markdown",
      "source": [
        "### Tujuan Bisnis\n",
        "\n",
        "Membangun sistem analisis berbasis data untuk:\n",
        "\n",
        "\n",
        "*   **Mengidentifikasi faktor risiko utama** yang berhubungan dengan penyakit jantung (contoh: usia, tekanan darah, kolesterol, detak jantung).\n",
        "\n",
        "*   **Memberikan insight** bagi dokter/tenaga medis dalam mendukung keputusan klinis.\n",
        "\n",
        "*   **Membantu pencegahan dini** dengan mengenali pasien berisiko tinggi sebelum penyakit berkembang lebih parah.\n",
        "\n"
      ],
      "metadata": {
        "id": "_4ALLmgRDjCR"
      }
    },
    {
      "cell_type": "markdown",
      "source": [
        "### Manfaat Bisnis\n",
        "\n",
        "*   **Bagi Rumah Sakit:** Efisiensi dalam skrining pasien, menekan biaya pemeriksaan lanjutan.\n",
        "\n",
        "*   **Bagi Pasien:** Mendapatkan deteksi dini dan rekomendasi penanganan lebih cepat.\n",
        "\n",
        "*   **Bagi Asuransi Kesehatan:** Mengurangi klaim biaya tinggi akibat penyakit jantung stadium lanjut.\n",
        "\n",
        "*   **Bagi Pemerintah:** Data pendukung dalam program kesehatan masyarakat untuk pencegahan penyakit kardiovaskular.\n",
        "\n"
      ],
      "metadata": {
        "id": "EM4WRfjqEVYQ"
      }
    }
  ]
}