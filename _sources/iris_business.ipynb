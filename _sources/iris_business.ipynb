{
  "nbformat": 4,
  "nbformat_minor": 0,
  "metadata": {
    "colab": {
      "provenance": []
    },
    "kernelspec": {
      "name": "python3",
      "display_name": "Python 3"
    },
    "language_info": {
      "name": "python"
    }
  },
  "cells": [
    {
      "cell_type": "markdown",
      "source": [
        "# **Business Understanding**"
      ],
      "metadata": {
        "id": "-rdGBLjcuqX6"
      }
    },
    {
      "cell_type": "markdown",
      "source": [
        "Tahap pertama dalam proyek sains data adalah **Business Understanding**, yaitu upaya memahami tujuan, kebutuhan, dan permasalahan yang ingin diselesaikan melalui penerapan teknik data science. Walaupun dataset Iris ini lebih sering digunakan dalam konteks akademik dan penelitian, pendekatan *business understanding* tetap penting karena akan memberikan arah yang jelas terhadap apa yang ingin dicapai dalam proses analisis maupun pemodelan.\n",
        "\n",
        "\n",
        "Secara umum, identifikasi spesies bunga biasanya dilakukan secara manual oleh ahli botani dengan cara mengamati ciri-ciri morfologi bunga, seperti bentuk, ukuran, dan warna. Proses manual ini tentunya memerlukan waktu, keterampilan khusus, serta rentan terjadi kesalahan apabila dilakukan oleh orang yang belum berpengalaman. Oleh karena itu, diperlukan sebuah pendekatan berbasis data yang mampu mengklasifikasikan spesies bunga secara otomatis, akurat, dan konsisten.\n",
        "\n",
        "\n",
        "Tujuan dari proyek ini adalah membangun sistem klasifikasi yang dapat membedakan tiga spesies bunga iris, yaitu **Iris Setosa, Iris Versicolor, dan Iris Virginica**, berdasarkan karakteristik morfologinya. Sistem klasifikasi ini diharapkan dapat membantu proses identifikasi spesies bunga secara lebih efisien. Selain itu, penelitian ini juga akan menjawab beberapa pertanyaan penting, seperti:\n",
        "\n",
        "\n",
        "1.   Apakah fitur-fitur berupa panjang dan lebar sepal serta panjang dan lebar petal dapat digunakan untuk membedakan spesies bunga iris dengan baik?\n",
        "\n",
        "2.   Algoritma machine learning apa yang dapat memberikan hasil klasifikasi terbaik untuk dataset ini?\n",
        "\n",
        "3.   Fitur mana yang memiliki pengaruh paling besar dalam membedakan ketiga spesies tersebut?\n",
        "\n",
        "\n",
        "Manfaat dari penelitian ini dapat dilihat dari dua sisi. Dari sisi **akademik**, proyek ini memberikan gambaran nyata mengenai bagaimana konsep supervised learning diterapkan pada data nyata sehingga mahasiswa dapat memahami alur kerja data science dari tahap awal hingga evaluasi model. Dari sisi **praktis**, sistem klasifikasi berbasis data dapat digunakan oleh para peneliti, pendidik, maupun pelaku bidang pertanian dan botani untuk melakukan identifikasi bunga secara cepat dan akurat tanpa harus selalu bergantung pada ahli. Dengan demikian, proyek ini tidak hanya memiliki nilai pembelajaran, tetapi juga memberikan kontribusi nyata dalam pemanfaatan data untuk mendukung kegiatan ilmiah maupun praktis.\n",
        "\n",
        "\n",
        "\n"
      ],
      "metadata": {
        "id": "1nA-3lDJuvab"
      }
    }
  ]
}